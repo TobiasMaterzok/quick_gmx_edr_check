{
 "cells": [
  {
   "attachments": {},
   "cell_type": "markdown",
   "metadata": {},
   "source": [
    "# Quick Convergence Check of Gromacs Runs"
   ]
  },
  {
   "cell_type": "code",
   "execution_count": null,
   "metadata": {},
   "outputs": [],
   "source": [
    "import os\n",
    "from quick_gmx_edr_check import GMXEnergy\n",
    "HOME = \"/home/tmaterzok/\"\n",
    "os.chdir(HOME + \"role_of_seq/\")\n"
   ]
  },
  {
   "cell_type": "code",
   "execution_count": null,
   "metadata": {},
   "outputs": [],
   "source": [
    "version = GMXEnergy(\"\")\n",
    "version.__version__"
   ]
  },
  {
   "cell_type": "code",
   "execution_count": null,
   "metadata": {},
   "outputs": [],
   "source": [
    "! ls"
   ]
  },
  {
   "cell_type": "code",
   "execution_count": null,
   "metadata": {},
   "outputs": [],
   "source": [
    "gmx = GMXEnergy(\n",
    "    base_dir=\"lseq_test_70_70_70_dens12_sample_4\",\n",
    "    load_modules=\"module purge && module load intel/env/2018 fftw/intel/single/sse/3.3.8 gromacs/nompi/cpu/intel/single/2018.4 &&\",\n",
    "    discard_perc=0.05)\n",
    "gmx.scan_edr_files()\n",
    "gmx.edr_files"
   ]
  },
  {
   "cell_type": "code",
   "execution_count": null,
   "metadata": {},
   "outputs": [],
   "source": [
    "matches = gmx.search_files_fuzzy('npt_relax_strong_w', fuzzy_threshold=70)\n",
    "matches"
   ]
  },
  {
   "cell_type": "code",
   "execution_count": null,
   "metadata": {},
   "outputs": [],
   "source": [
    "gmx.set_active_files(matches)\n",
    "gmx.run_gmx_energy(term=\"Potential\")\n",
    "gmx.plot_energy()\n",
    "gmx.run_gmx_energy(term=\"Density\")\n",
    "gmx.plot_energy(temp_discard_perc=0.10)\n",
    "gmx.run_gmx_energy(term=\"Temperature\")\n",
    "gmx.plot_energy()"
   ]
  },
  {
   "cell_type": "code",
   "execution_count": null,
   "metadata": {},
   "outputs": [],
   "source": [
    "gmx.scan_edr_files()\n",
    "matches = gmx.search_files_fuzzy(\"run_strain_12.edr\", fuzzy_threshold=92)\n",
    "matches"
   ]
  },
  {
   "cell_type": "code",
   "execution_count": null,
   "metadata": {},
   "outputs": [],
   "source": [
    "gmx.set_active_files(matches)\n"
   ]
  },
  {
   "cell_type": "code",
   "execution_count": null,
   "metadata": {},
   "outputs": [],
   "source": [
    "gmx.edr_files"
   ]
  },
  {
   "cell_type": "code",
   "execution_count": null,
   "metadata": {},
   "outputs": [],
   "source": [
    "gmx.set_active_files(matches)\n",
    "gmx.run_gmx_energy(term=\"Potential\")\n",
    "gmx.plot_energy()\n",
    "gmx.run_gmx_energy(term=\"Density\")\n",
    "gmx.plot_energy()\n",
    "gmx.run_gmx_energy(term=\"Temperature\")\n",
    "gmx.plot_energy()\n",
    "gmx.run_gmx_energy(term=\"Pressure\")\n",
    "gmx.plot_energy()"
   ]
  }
 ],
 "metadata": {
  "kernelspec": {
   "display_name": "role_of_seq",
   "language": "python",
   "name": "python3"
  },
  "language_info": {
   "codemirror_mode": {
    "name": "ipython",
    "version": 3
   },
   "file_extension": ".py",
   "mimetype": "text/x-python",
   "name": "python",
   "nbconvert_exporter": "python",
   "pygments_lexer": "ipython3",
   "version": "3.10.9"
  },
  "orig_nbformat": 4
 },
 "nbformat": 4,
 "nbformat_minor": 2
}
