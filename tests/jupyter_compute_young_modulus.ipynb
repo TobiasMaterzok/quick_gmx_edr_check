{
 "cells": [
  {
   "attachments": {},
   "cell_type": "markdown",
   "metadata": {},
   "source": [
    "# Quick Convergence Check of Gromacs Runs"
   ]
  },
  {
   "cell_type": "code",
   "execution_count": 1,
   "metadata": {},
   "outputs": [],
   "source": [
    "import os\n",
    "import sys\n",
    "# either important by path:\n",
    "sys.path.append('/home/tmaterzok/quick_gmx_edr_check/quick_gmx_edr_check/')\n",
    "from gmx_energy import GMXEnergy\n",
    "# or importing after pip installation:\n",
    "#from quick_gmx_edr_check import GMXEnergy\n",
    "\n",
    "import pandas as pd\n",
    "import matplotlib.pyplot as plt\n",
    "\n",
    "HOME = \"/home/tmaterzok/\"\n",
    "os.chdir(HOME + \"role_of_seq/\")\n"
   ]
  },
  {
   "cell_type": "code",
   "execution_count": 2,
   "metadata": {},
   "outputs": [
    {
     "data": {
      "text/plain": [
       "'1.2.3'"
      ]
     },
     "execution_count": 2,
     "metadata": {},
     "output_type": "execute_result"
    }
   ],
   "source": [
    "version = GMXEnergy(\"\")\n",
    "version.__version__"
   ]
  },
  {
   "attachments": {},
   "cell_type": "markdown",
   "metadata": {},
   "source": [
    "# Gromacs EDR Files Analysis\n",
    "\n",
    "In this analysis, we are going to extract stress-strain behavior from Gromacs `.edr` files. We will focus on Non-Equilibrium MD Simulation resulting from the AIDPET toolchain, we find the corresponding files in the rather complex and deep foldre structure using the fuzzy search method. \n",
    "\n",
    "We will use two different methods from the GMXEnergy class: `search_files_fuzzy` and `get_data`.\n",
    "\n",
    "## Step 1: Search for files\n",
    "\n"
   ]
  },
  {
   "cell_type": "code",
   "execution_count": 3,
   "metadata": {},
   "outputs": [],
   "source": [
    "gmx = GMXEnergy(\n",
    "    base_dir=\".\", \n",
    "    load_modules=\"module purge && module load intel/env/2018 fftw/intel/single/sse/3.3.8 gromacs/nompi/cpu/intel/single/2018.4 &&\",\n",
    "    discard_perc=0.05)\n",
    "gmx.scan_edr_files()"
   ]
  },
  {
   "cell_type": "code",
   "execution_count": 4,
   "metadata": {},
   "outputs": [
    {
     "name": "stdout",
     "output_type": "stream",
     "text": [
      "22 ./lseq_0_sample_1/GA9rnd_gromos_em.edr\n",
      "23 ./lseq_0_sample_1/GA9rnd_gromos_em_first.edr\n",
      "16 ./lseq_0_sample_1/nvt_cooldown_NPT/nvt_cooldown_1000/run_nvt_cooldown_1000_NPT.edr\n",
      "16 ./lseq_0_sample_1/nvt_cooldown_NPT/nvt_cooldown_700/run_nvt_cooldown_700_NPT.edr\n",
      "16 ./lseq_0_sample_1/nvt_cooldown_NPT/nvt_cooldown_600/run_nvt_cooldown_600_NPT.edr\n",
      "16 ./lseq_0_sample_1/nvt_cooldown_NPT/nvt_cooldown_1100/run_nvt_cooldown_1100_NPT.edr\n",
      "16 ./lseq_0_sample_1/nvt_cooldown_NPT/nvt_cooldown_1300/run_nvt_cooldown_1300_NPT.edr\n",
      "16 ./lseq_0_sample_1/nvt_cooldown_NPT/nvt_cooldown_400/run_nvt_cooldown_400_NPT.edr\n",
      "16 ./lseq_0_sample_1/nvt_cooldown_NPT/nvt_cooldown_850/run_nvt_cooldown_850_NPT.edr\n",
      "16 ./lseq_0_sample_1/nvt_cooldown_NPT/nvt_cooldown_950/run_nvt_cooldown_950_NPT.edr\n",
      "16 ./lseq_0_sample_1/nvt_cooldown_NPT/nvt_cooldown_500/run_nvt_cooldown_500_NPT.edr\n",
      "16 ./lseq_0_sample_1/nvt_cooldown_NPT/nvt_cooldown_1200/run_nvt_cooldown_1200_NPT.edr\n",
      "16 ./lseq_0_sample_1/nvt_cooldown_NPT/nvt_cooldown_350/run_nvt_cooldown_350_NPT.edr\n",
      "16 ./lseq_0_sample_1/nvt_cooldown_NPT/nvt_cooldown_1050/run_nvt_cooldown_1050_NPT.edr\n",
      "16 ./lseq_0_sample_1/nvt_cooldown_NPT/nvt_cooldown_750/run_nvt_cooldown_750_NPT.edr\n",
      "16 ./lseq_0_sample_1/nvt_cooldown_NPT/nvt_cooldown_650/run_nvt_cooldown_650_NPT.edr\n",
      "16 ./lseq_0_sample_1/nvt_cooldown_NPT/nvt_cooldown_1150/run_nvt_cooldown_1150_NPT.edr\n",
      "16 ./lseq_0_sample_1/nvt_cooldown_NPT/nvt_cooldown_450/run_nvt_cooldown_450_NPT.edr\n",
      "16 ./lseq_0_sample_1/nvt_cooldown_NPT/nvt_cooldown_800/run_nvt_cooldown_800_NPT.edr\n",
      "16 ./lseq_0_sample_1/nvt_cooldown_NPT/nvt_cooldown_300/run_nvt_cooldown_300_NPT.edr\n",
      "16 ./lseq_0_sample_1/nvt_cooldown_NPT/nvt_cooldown_900/run_nvt_cooldown_900_NPT.edr\n",
      "16 ./lseq_0_sample_1/nvt_cooldown_NPT/nvt_cooldown_550/run_nvt_cooldown_550_NPT.edr\n",
      "16 ./lseq_0_sample_1/nvt_cooldown_NPT/nvt_cooldown_1250/run_nvt_cooldown_1250_NPT.edr\n",
      "25 ./lseq_0_sample_1/nvt_hot/GA9rnd_gromos_hot.edr\n",
      "21 ./lseq_0_sample_1/relax_angles_NPT/GA9rnd_gromos_relaxangles_2_NPT.edr\n",
      "21 ./lseq_0_sample_1/ss_0.33/GA9rnd_gromos_relaxangles_2_NPT.edr\n",
      "21 ./lseq_0_sample_1/ss_0.33/npt_relax_NPT/GA9rnd_npt_relax.edr\n",
      "20 ./lseq_0_sample_1/ss_0.33/npt_relax_NPT/GA9rnd_gromos_ss_em.edr\n",
      "21 ./lseq_0_sample_1/ss_0.33/npt_relax_NPT/GA9rnd_gromos_ss_em_first.edr\n",
      "25 ./lseq_0_sample_1/ss_0.33/npt_relax_water_NPT/stressstrain_0.0/nemd_strain/run_strain.edr\n",
      "24 ./lseq_0_sample_1/ss_0.33/npt_relax_water_NPT/stressstrain_0.0/eqmd_strain_0/run_strain_0.edr\n",
      "24 ./lseq_0_sample_1/ss_0.33/npt_relax_water_NPT/stressstrain_0.0/eqmd_strain_1/run_strain_1.edr\n",
      "17 ./lseq_0_sample_1/ss_0.33/npt_relax_water_NPT/npt_relax_w_0.1/GA9rnd_gromos_ss_em_w.edr\n",
      "20 ./lseq_0_sample_1/ss_0.33/npt_relax_water_NPT/npt_relax_w_0.1/GA9rnd_npt_relax_strong_w_0.1.edr\n",
      "17 ./lseq_0_sample_1/ss_0.33/npt_relax_water_NPT/npt_relax_w_0.0/GA9rnd_gromos_ss_em_w.edr\n",
      "20 ./lseq_0_sample_1/ss_0.33/npt_relax_water_NPT/npt_relax_w_0.0/GA9rnd_npt_relax_strong_w_0.0.edr\n",
      "24 ./lseq_0_sample_1/ss_0.33/npt_relax_water_NPT/stressstrain_0.1/eqmd_strain_0/run_strain_0.edr\n",
      "25 ./lseq_0_sample_1/ss_0.33/npt_relax_water_NPT/stressstrain_0.1/nemd_strain/run_strain.edr\n",
      "24 ./lseq_0_sample_1/ss_0.33/npt_relax_water_NPT/stressstrain_0.1/eqmd_strain_1/run_strain_1.edr\n",
      "20 ./lseq_test_70_70_70_dens12_sample_2/GA9rnd_gromos_em_first.edr\n",
      "22 ./lseq_test_70_70_70_dens12_sample_2/GA9rnd_gromos_em.edr\n",
      "24 ./lseq_test_70_70_70_dens12_sample_2/nvt_hot/GA9rnd_gromos_hot.edr\n",
      "17 ./lseq_test_70_70_70_dens12_sample_2/nvt_cooldown_NPT/nvt_cooldown_750/run_nvt_cooldown_750_NPT.edr\n",
      "17 ./lseq_test_70_70_70_dens12_sample_2/nvt_cooldown_NPT/nvt_cooldown_650/run_nvt_cooldown_650_NPT.edr\n",
      "17 ./lseq_test_70_70_70_dens12_sample_2/nvt_cooldown_NPT/nvt_cooldown_1250/run_nvt_cooldown_1250_NPT.edr\n",
      "17 ./lseq_test_70_70_70_dens12_sample_2/nvt_cooldown_NPT/nvt_cooldown_1050/run_nvt_cooldown_1050_NPT.edr\n",
      "17 ./lseq_test_70_70_70_dens12_sample_2/nvt_cooldown_NPT/nvt_cooldown_800/run_nvt_cooldown_800_NPT.edr\n",
      "17 ./lseq_test_70_70_70_dens12_sample_2/nvt_cooldown_NPT/nvt_cooldown_450/run_nvt_cooldown_450_NPT.edr\n",
      "17 ./lseq_test_70_70_70_dens12_sample_2/nvt_cooldown_NPT/nvt_cooldown_550/run_nvt_cooldown_550_NPT.edr\n",
      "17 ./lseq_test_70_70_70_dens12_sample_2/nvt_cooldown_NPT/nvt_cooldown_900/run_nvt_cooldown_900_NPT.edr\n",
      "17 ./lseq_test_70_70_70_dens12_sample_2/nvt_cooldown_NPT/nvt_cooldown_1150/run_nvt_cooldown_1150_NPT.edr\n",
      "17 ./lseq_test_70_70_70_dens12_sample_2/nvt_cooldown_NPT/nvt_cooldown_300/run_nvt_cooldown_300_NPT.edr\n",
      "17 ./lseq_test_70_70_70_dens12_sample_2/nvt_cooldown_NPT/nvt_cooldown_1300/run_nvt_cooldown_1300_NPT.edr\n",
      "17 ./lseq_test_70_70_70_dens12_sample_2/nvt_cooldown_NPT/nvt_cooldown_700/run_nvt_cooldown_700_NPT.edr\n",
      "17 ./lseq_test_70_70_70_dens12_sample_2/nvt_cooldown_NPT/nvt_cooldown_600/run_nvt_cooldown_600_NPT.edr\n",
      "17 ./lseq_test_70_70_70_dens12_sample_2/nvt_cooldown_NPT/nvt_cooldown_1200/run_nvt_cooldown_1200_NPT.edr\n",
      "17 ./lseq_test_70_70_70_dens12_sample_2/nvt_cooldown_NPT/nvt_cooldown_1000/run_nvt_cooldown_1000_NPT.edr\n",
      "17 ./lseq_test_70_70_70_dens12_sample_2/nvt_cooldown_NPT/nvt_cooldown_850/run_nvt_cooldown_850_NPT.edr\n",
      "17 ./lseq_test_70_70_70_dens12_sample_2/nvt_cooldown_NPT/nvt_cooldown_400/run_nvt_cooldown_400_NPT.edr\n",
      "17 ./lseq_test_70_70_70_dens12_sample_2/nvt_cooldown_NPT/nvt_cooldown_350/run_nvt_cooldown_350_NPT.edr\n",
      "17 ./lseq_test_70_70_70_dens12_sample_2/nvt_cooldown_NPT/nvt_cooldown_500/run_nvt_cooldown_500_NPT.edr\n",
      "17 ./lseq_test_70_70_70_dens12_sample_2/nvt_cooldown_NPT/nvt_cooldown_950/run_nvt_cooldown_950_NPT.edr\n",
      "17 ./lseq_test_70_70_70_dens12_sample_2/nvt_cooldown_NPT/nvt_cooldown_1100/run_nvt_cooldown_1100_NPT.edr\n",
      "19 ./lseq_test_70_70_70_dens12_sample_2/relax_angles_NPT/GA9rnd_gromos_relaxangles_2_NPT.edr\n",
      "19 ./lseq_test_70_70_70_dens12_sample_2/ss_0.33/GA9rnd_gromos_relaxangles_2_NPT.edr\n",
      "16 ./lseq_test_70_70_70_dens12_sample_2/ss_0.33/npt_relax_water_NPT/npt_relax_w_0.0/GA9rnd_gromos_ss_em_w.edr\n",
      "17 ./lseq_test_70_70_70_dens12_sample_2/ss_0.33/npt_relax_water_NPT/npt_relax_w_0.0/GA9rnd_npt_relax_strong_w_0.0.edr\n",
      "25 ./lseq_test_70_70_70_dens12_sample_2/ss_0.33/npt_relax_water_NPT/stressstrain_0.1/strain_simulation_0/run_strain_0.edr\n",
      "26 ./lseq_test_70_70_70_dens12_sample_2/ss_0.33/npt_relax_water_NPT/stressstrain_0.1/strain_simulation_1/run_strain.edr\n",
      "25 ./lseq_test_70_70_70_dens12_sample_2/ss_0.33/npt_relax_water_NPT/stressstrain_0.1/strain_simulation_1/run_strain_1.edr\n",
      "26 ./lseq_test_70_70_70_dens12_sample_2/ss_0.33/npt_relax_water_NPT/stressstrain_0.1/strain_simulation_2/run_strain.edr\n",
      "25 ./lseq_test_70_70_70_dens12_sample_2/ss_0.33/npt_relax_water_NPT/stressstrain_0.1/strain_simulation_2/run_strain_2.edr\n",
      "16 ./lseq_test_70_70_70_dens12_sample_2/ss_0.33/npt_relax_water_NPT/npt_relax_w_0.1/GA9rnd_gromos_ss_em_w.edr\n",
      "17 ./lseq_test_70_70_70_dens12_sample_2/ss_0.33/npt_relax_water_NPT/npt_relax_w_0.1/GA9rnd_npt_relax_strong_w_0.1.edr\n",
      "25 ./lseq_test_70_70_70_dens12_sample_2/ss_0.33/npt_relax_water_NPT/stressstrain_0.0/strain_simulation_0/run_strain_0.edr\n",
      "25 ./lseq_test_70_70_70_dens12_sample_2/ss_0.33/npt_relax_water_NPT/stressstrain_0.0/strain_simulation_2/run_strain_2.edr\n",
      "26 ./lseq_test_70_70_70_dens12_sample_2/ss_0.33/npt_relax_water_NPT/stressstrain_0.0/strain_simulation_2/run_strain.edr\n",
      "25 ./lseq_test_70_70_70_dens12_sample_2/ss_0.33/npt_relax_water_NPT/stressstrain_0.0/strain_simulation_1/run_strain_1.edr\n",
      "26 ./lseq_test_70_70_70_dens12_sample_2/ss_0.33/npt_relax_water_NPT/stressstrain_0.0/strain_simulation_1/run_strain.edr\n",
      "18 ./lseq_test_70_70_70_dens12_sample_2/ss_0.33/npt_relax_NPT/GA9rnd_gromos_ss_em.edr\n",
      "19 ./lseq_test_70_70_70_dens12_sample_2/ss_0.33/npt_relax_NPT/GA9rnd_npt_relax.edr\n",
      "17 ./lseq_test_70_70_70_dens12_sample_2/ss_0.33/npt_relax_NPT/GA9rnd_gromos_ss_em_first.edr\n",
      "22 ./lseq_0_sample_2/GA9rnd_gromos_em.edr\n",
      "23 ./lseq_0_sample_2/GA9rnd_gromos_em_first.edr\n",
      "16 ./lseq_0_sample_2/nvt_cooldown_NPT/nvt_cooldown_700/run_nvt_cooldown_700_NPT.edr\n",
      "16 ./lseq_0_sample_2/nvt_cooldown_NPT/nvt_cooldown_600/run_nvt_cooldown_600_NPT.edr\n",
      "16 ./lseq_0_sample_2/nvt_cooldown_NPT/nvt_cooldown_1250/run_nvt_cooldown_1250_NPT.edr\n",
      "16 ./lseq_0_sample_2/nvt_cooldown_NPT/nvt_cooldown_1050/run_nvt_cooldown_1050_NPT.edr\n",
      "16 ./lseq_0_sample_2/nvt_cooldown_NPT/nvt_cooldown_850/run_nvt_cooldown_850_NPT.edr\n",
      "16 ./lseq_0_sample_2/nvt_cooldown_NPT/nvt_cooldown_400/run_nvt_cooldown_400_NPT.edr\n",
      "16 ./lseq_0_sample_2/nvt_cooldown_NPT/nvt_cooldown_500/run_nvt_cooldown_500_NPT.edr\n",
      "16 ./lseq_0_sample_2/nvt_cooldown_NPT/nvt_cooldown_950/run_nvt_cooldown_950_NPT.edr\n",
      "16 ./lseq_0_sample_2/nvt_cooldown_NPT/nvt_cooldown_1150/run_nvt_cooldown_1150_NPT.edr\n",
      "16 ./lseq_0_sample_2/nvt_cooldown_NPT/nvt_cooldown_350/run_nvt_cooldown_350_NPT.edr\n",
      "16 ./lseq_0_sample_2/nvt_cooldown_NPT/nvt_cooldown_1300/run_nvt_cooldown_1300_NPT.edr\n",
      "16 ./lseq_0_sample_2/nvt_cooldown_NPT/nvt_cooldown_750/run_nvt_cooldown_750_NPT.edr\n",
      "16 ./lseq_0_sample_2/nvt_cooldown_NPT/nvt_cooldown_650/run_nvt_cooldown_650_NPT.edr\n",
      "16 ./lseq_0_sample_2/nvt_cooldown_NPT/nvt_cooldown_1200/run_nvt_cooldown_1200_NPT.edr\n",
      "16 ./lseq_0_sample_2/nvt_cooldown_NPT/nvt_cooldown_1000/run_nvt_cooldown_1000_NPT.edr\n",
      "16 ./lseq_0_sample_2/nvt_cooldown_NPT/nvt_cooldown_800/run_nvt_cooldown_800_NPT.edr\n",
      "16 ./lseq_0_sample_2/nvt_cooldown_NPT/nvt_cooldown_450/run_nvt_cooldown_450_NPT.edr\n",
      "16 ./lseq_0_sample_2/nvt_cooldown_NPT/nvt_cooldown_300/run_nvt_cooldown_300_NPT.edr\n",
      "16 ./lseq_0_sample_2/nvt_cooldown_NPT/nvt_cooldown_550/run_nvt_cooldown_550_NPT.edr\n",
      "16 ./lseq_0_sample_2/nvt_cooldown_NPT/nvt_cooldown_900/run_nvt_cooldown_900_NPT.edr\n",
      "16 ./lseq_0_sample_2/nvt_cooldown_NPT/nvt_cooldown_1100/run_nvt_cooldown_1100_NPT.edr\n",
      "21 ./lseq_0_sample_2/ss_0.33/GA9rnd_gromos_relaxangles_2_NPT.edr\n",
      "21 ./lseq_0_sample_2/ss_0.33/npt_relax_NPT/GA9rnd_npt_relax.edr\n",
      "20 ./lseq_0_sample_2/ss_0.33/npt_relax_NPT/GA9rnd_gromos_ss_em.edr\n",
      "21 ./lseq_0_sample_2/ss_0.33/npt_relax_NPT/GA9rnd_gromos_ss_em_first.edr\n",
      "20 ./lseq_0_sample_2/ss_0.33/npt_relax_water_NPT/npt_relax_w_0.0/GA9rnd_npt_relax_strong_w_0.0.edr\n",
      "17 ./lseq_0_sample_2/ss_0.33/npt_relax_water_NPT/npt_relax_w_0.0/GA9rnd_gromos_ss_em_w.edr\n",
      "24 ./lseq_0_sample_2/ss_0.33/npt_relax_water_NPT/stressstrain_0.0/eqmd_strain_0/run_strain_0.edr\n",
      "25 ./lseq_0_sample_2/ss_0.33/npt_relax_water_NPT/stressstrain_0.0/nemd_strain/run_strain.edr\n",
      "24 ./lseq_0_sample_2/ss_0.33/npt_relax_water_NPT/stressstrain_0.0/eqmd_strain_1/run_strain_1.edr\n",
      "20 ./lseq_0_sample_2/ss_0.33/npt_relax_water_NPT/npt_relax_w_0.1/GA9rnd_npt_relax_strong_w_0.1.edr\n",
      "17 ./lseq_0_sample_2/ss_0.33/npt_relax_water_NPT/npt_relax_w_0.1/GA9rnd_gromos_ss_em_w.edr\n",
      "24 ./lseq_0_sample_2/ss_0.33/npt_relax_water_NPT/stressstrain_0.1/eqmd_strain_0/run_strain_0.edr\n",
      "25 ./lseq_0_sample_2/ss_0.33/npt_relax_water_NPT/stressstrain_0.1/nemd_strain/run_strain.edr\n",
      "24 ./lseq_0_sample_2/ss_0.33/npt_relax_water_NPT/stressstrain_0.1/eqmd_strain_1/run_strain_1.edr\n",
      "21 ./lseq_0_sample_2/relax_angles_NPT/GA9rnd_gromos_relaxangles_2_NPT.edr\n",
      "25 ./lseq_0_sample_2/nvt_hot/GA9rnd_gromos_hot.edr\n",
      "20 ./lseq_test_70_70_70_dens12_sample_1/GA9rnd_gromos_em_first.edr\n",
      "22 ./lseq_test_70_70_70_dens12_sample_1/GA9rnd_gromos_em.edr\n",
      "19 ./lseq_test_70_70_70_dens12_sample_1/ss_0.33/GA9rnd_gromos_relaxangles_2_NPT.edr\n",
      "26 ./lseq_test_70_70_70_dens12_sample_1/ss_0.33/npt_relax_water_NPT/stressstrain_0.1/strain_simulation_2/run_strain.edr\n",
      "25 ./lseq_test_70_70_70_dens12_sample_1/ss_0.33/npt_relax_water_NPT/stressstrain_0.1/strain_simulation_2/run_strain_2.edr\n",
      "26 ./lseq_test_70_70_70_dens12_sample_1/ss_0.33/npt_relax_water_NPT/stressstrain_0.1/strain_simulation_1/run_strain.edr\n",
      "25 ./lseq_test_70_70_70_dens12_sample_1/ss_0.33/npt_relax_water_NPT/stressstrain_0.1/strain_simulation_1/run_strain_1.edr\n",
      "25 ./lseq_test_70_70_70_dens12_sample_1/ss_0.33/npt_relax_water_NPT/stressstrain_0.1/strain_simulation_0/run_strain_0.edr\n",
      "17 ./lseq_test_70_70_70_dens12_sample_1/ss_0.33/npt_relax_water_NPT/npt_relax_w_0.1/GA9rnd_npt_relax_strong_w_0.1.edr\n",
      "16 ./lseq_test_70_70_70_dens12_sample_1/ss_0.33/npt_relax_water_NPT/npt_relax_w_0.1/GA9rnd_gromos_ss_em_w.edr\n",
      "16 ./lseq_test_70_70_70_dens12_sample_1/ss_0.33/npt_relax_water_NPT/npt_relax_w_0.0/GA9rnd_gromos_ss_em_w.edr\n",
      "17 ./lseq_test_70_70_70_dens12_sample_1/ss_0.33/npt_relax_water_NPT/npt_relax_w_0.0/GA9rnd_npt_relax_strong_w_0.0.edr\n",
      "25 ./lseq_test_70_70_70_dens12_sample_1/ss_0.33/npt_relax_water_NPT/stressstrain_0.0/strain_simulation_2/run_strain_2.edr\n",
      "26 ./lseq_test_70_70_70_dens12_sample_1/ss_0.33/npt_relax_water_NPT/stressstrain_0.0/strain_simulation_2/run_strain.edr\n",
      "25 ./lseq_test_70_70_70_dens12_sample_1/ss_0.33/npt_relax_water_NPT/stressstrain_0.0/strain_simulation_1/run_strain_1.edr\n",
      "26 ./lseq_test_70_70_70_dens12_sample_1/ss_0.33/npt_relax_water_NPT/stressstrain_0.0/strain_simulation_1/run_strain.edr\n",
      "25 ./lseq_test_70_70_70_dens12_sample_1/ss_0.33/npt_relax_water_NPT/stressstrain_0.0/strain_simulation_0/run_strain_0.edr\n",
      "19 ./lseq_test_70_70_70_dens12_sample_1/ss_0.33/npt_relax_NPT/GA9rnd_npt_relax.edr\n",
      "17 ./lseq_test_70_70_70_dens12_sample_1/ss_0.33/npt_relax_NPT/GA9rnd_gromos_ss_em_first.edr\n",
      "18 ./lseq_test_70_70_70_dens12_sample_1/ss_0.33/npt_relax_NPT/GA9rnd_gromos_ss_em.edr\n",
      "17 ./lseq_test_70_70_70_dens12_sample_1/nvt_cooldown_NPT/nvt_cooldown_1100/run_nvt_cooldown_1100_NPT.edr\n",
      "17 ./lseq_test_70_70_70_dens12_sample_1/nvt_cooldown_NPT/nvt_cooldown_350/run_nvt_cooldown_350_NPT.edr\n",
      "17 ./lseq_test_70_70_70_dens12_sample_1/nvt_cooldown_NPT/nvt_cooldown_500/run_nvt_cooldown_500_NPT.edr\n",
      "17 ./lseq_test_70_70_70_dens12_sample_1/nvt_cooldown_NPT/nvt_cooldown_950/run_nvt_cooldown_950_NPT.edr\n",
      "17 ./lseq_test_70_70_70_dens12_sample_1/nvt_cooldown_NPT/nvt_cooldown_850/run_nvt_cooldown_850_NPT.edr\n",
      "17 ./lseq_test_70_70_70_dens12_sample_1/nvt_cooldown_NPT/nvt_cooldown_400/run_nvt_cooldown_400_NPT.edr\n",
      "17 ./lseq_test_70_70_70_dens12_sample_1/nvt_cooldown_NPT/nvt_cooldown_1000/run_nvt_cooldown_1000_NPT.edr\n",
      "17 ./lseq_test_70_70_70_dens12_sample_1/nvt_cooldown_NPT/nvt_cooldown_1200/run_nvt_cooldown_1200_NPT.edr\n",
      "17 ./lseq_test_70_70_70_dens12_sample_1/nvt_cooldown_NPT/nvt_cooldown_600/run_nvt_cooldown_600_NPT.edr\n",
      "17 ./lseq_test_70_70_70_dens12_sample_1/nvt_cooldown_NPT/nvt_cooldown_700/run_nvt_cooldown_700_NPT.edr\n",
      "17 ./lseq_test_70_70_70_dens12_sample_1/nvt_cooldown_NPT/nvt_cooldown_1300/run_nvt_cooldown_1300_NPT.edr\n",
      "17 ./lseq_test_70_70_70_dens12_sample_1/nvt_cooldown_NPT/nvt_cooldown_550/run_nvt_cooldown_550_NPT.edr\n",
      "17 ./lseq_test_70_70_70_dens12_sample_1/nvt_cooldown_NPT/nvt_cooldown_900/run_nvt_cooldown_900_NPT.edr\n",
      "17 ./lseq_test_70_70_70_dens12_sample_1/nvt_cooldown_NPT/nvt_cooldown_1150/run_nvt_cooldown_1150_NPT.edr\n",
      "17 ./lseq_test_70_70_70_dens12_sample_1/nvt_cooldown_NPT/nvt_cooldown_300/run_nvt_cooldown_300_NPT.edr\n",
      "17 ./lseq_test_70_70_70_dens12_sample_1/nvt_cooldown_NPT/nvt_cooldown_1050/run_nvt_cooldown_1050_NPT.edr\n",
      "17 ./lseq_test_70_70_70_dens12_sample_1/nvt_cooldown_NPT/nvt_cooldown_800/run_nvt_cooldown_800_NPT.edr\n",
      "17 ./lseq_test_70_70_70_dens12_sample_1/nvt_cooldown_NPT/nvt_cooldown_450/run_nvt_cooldown_450_NPT.edr\n",
      "17 ./lseq_test_70_70_70_dens12_sample_1/nvt_cooldown_NPT/nvt_cooldown_650/run_nvt_cooldown_650_NPT.edr\n",
      "17 ./lseq_test_70_70_70_dens12_sample_1/nvt_cooldown_NPT/nvt_cooldown_1250/run_nvt_cooldown_1250_NPT.edr\n",
      "17 ./lseq_test_70_70_70_dens12_sample_1/nvt_cooldown_NPT/nvt_cooldown_750/run_nvt_cooldown_750_NPT.edr\n",
      "19 ./lseq_test_70_70_70_dens12_sample_1/relax_angles_NPT/GA9rnd_gromos_relaxangles_2_NPT.edr\n",
      "24 ./lseq_test_70_70_70_dens12_sample_1/nvt_hot/GA9rnd_gromos_hot.edr\n",
      "20 ./lseq_test_70_70_70_dens12_sample_3/GA9rnd_gromos_em_first.edr\n",
      "22 ./lseq_test_70_70_70_dens12_sample_3/GA9rnd_gromos_em.edr\n",
      "17 ./lseq_test_70_70_70_dens12_sample_3/nvt_cooldown_NPT/nvt_cooldown_750/run_nvt_cooldown_750_NPT.edr\n",
      "17 ./lseq_test_70_70_70_dens12_sample_3/nvt_cooldown_NPT/nvt_cooldown_1050/run_nvt_cooldown_1050_NPT.edr\n",
      "17 ./lseq_test_70_70_70_dens12_sample_3/nvt_cooldown_NPT/nvt_cooldown_1150/run_nvt_cooldown_1150_NPT.edr\n",
      "17 ./lseq_test_70_70_70_dens12_sample_3/nvt_cooldown_NPT/nvt_cooldown_650/run_nvt_cooldown_650_NPT.edr\n",
      "17 ./lseq_test_70_70_70_dens12_sample_3/nvt_cooldown_NPT/nvt_cooldown_800/run_nvt_cooldown_800_NPT.edr\n",
      "17 ./lseq_test_70_70_70_dens12_sample_3/nvt_cooldown_NPT/nvt_cooldown_450/run_nvt_cooldown_450_NPT.edr\n",
      "17 ./lseq_test_70_70_70_dens12_sample_3/nvt_cooldown_NPT/nvt_cooldown_1250/run_nvt_cooldown_1250_NPT.edr\n",
      "17 ./lseq_test_70_70_70_dens12_sample_3/nvt_cooldown_NPT/nvt_cooldown_550/run_nvt_cooldown_550_NPT.edr\n",
      "17 ./lseq_test_70_70_70_dens12_sample_3/nvt_cooldown_NPT/nvt_cooldown_900/run_nvt_cooldown_900_NPT.edr\n",
      "17 ./lseq_test_70_70_70_dens12_sample_3/nvt_cooldown_NPT/nvt_cooldown_300/run_nvt_cooldown_300_NPT.edr\n",
      "17 ./lseq_test_70_70_70_dens12_sample_3/nvt_cooldown_NPT/nvt_cooldown_700/run_nvt_cooldown_700_NPT.edr\n",
      "17 ./lseq_test_70_70_70_dens12_sample_3/nvt_cooldown_NPT/nvt_cooldown_1000/run_nvt_cooldown_1000_NPT.edr\n",
      "17 ./lseq_test_70_70_70_dens12_sample_3/nvt_cooldown_NPT/nvt_cooldown_1100/run_nvt_cooldown_1100_NPT.edr\n",
      "17 ./lseq_test_70_70_70_dens12_sample_3/nvt_cooldown_NPT/nvt_cooldown_600/run_nvt_cooldown_600_NPT.edr\n",
      "17 ./lseq_test_70_70_70_dens12_sample_3/nvt_cooldown_NPT/nvt_cooldown_850/run_nvt_cooldown_850_NPT.edr\n",
      "17 ./lseq_test_70_70_70_dens12_sample_3/nvt_cooldown_NPT/nvt_cooldown_400/run_nvt_cooldown_400_NPT.edr\n",
      "17 ./lseq_test_70_70_70_dens12_sample_3/nvt_cooldown_NPT/nvt_cooldown_1300/run_nvt_cooldown_1300_NPT.edr\n",
      "17 ./lseq_test_70_70_70_dens12_sample_3/nvt_cooldown_NPT/nvt_cooldown_350/run_nvt_cooldown_350_NPT.edr\n",
      "17 ./lseq_test_70_70_70_dens12_sample_3/nvt_cooldown_NPT/nvt_cooldown_1200/run_nvt_cooldown_1200_NPT.edr\n",
      "17 ./lseq_test_70_70_70_dens12_sample_3/nvt_cooldown_NPT/nvt_cooldown_500/run_nvt_cooldown_500_NPT.edr\n",
      "17 ./lseq_test_70_70_70_dens12_sample_3/nvt_cooldown_NPT/nvt_cooldown_950/run_nvt_cooldown_950_NPT.edr\n",
      "19 ./lseq_test_70_70_70_dens12_sample_3/ss_0.33/GA9rnd_gromos_relaxangles_2_NPT.edr\n",
      "19 ./lseq_test_70_70_70_dens12_sample_3/ss_0.33/npt_relax_NPT/GA9rnd_npt_relax.edr\n",
      "18 ./lseq_test_70_70_70_dens12_sample_3/ss_0.33/npt_relax_NPT/GA9rnd_gromos_ss_em.edr\n",
      "17 ./lseq_test_70_70_70_dens12_sample_3/ss_0.33/npt_relax_NPT/GA9rnd_gromos_ss_em_first.edr\n",
      "25 ./lseq_test_70_70_70_dens12_sample_3/ss_0.33/npt_relax_water_NPT/stressstrain_0.1/strain_simulation_0/run_strain_0.edr\n",
      "25 ./lseq_test_70_70_70_dens12_sample_3/ss_0.33/npt_relax_water_NPT/stressstrain_0.1/strain_simulation_1/run_strain_1.edr\n",
      "26 ./lseq_test_70_70_70_dens12_sample_3/ss_0.33/npt_relax_water_NPT/stressstrain_0.1/strain_simulation_1/run_strain.edr\n",
      "26 ./lseq_test_70_70_70_dens12_sample_3/ss_0.33/npt_relax_water_NPT/stressstrain_0.1/strain_simulation_2/run_strain.edr\n",
      "25 ./lseq_test_70_70_70_dens12_sample_3/ss_0.33/npt_relax_water_NPT/stressstrain_0.1/strain_simulation_2/run_strain_2.edr\n",
      "16 ./lseq_test_70_70_70_dens12_sample_3/ss_0.33/npt_relax_water_NPT/npt_relax_w_0.1/GA9rnd_gromos_ss_em_w.edr\n",
      "17 ./lseq_test_70_70_70_dens12_sample_3/ss_0.33/npt_relax_water_NPT/npt_relax_w_0.1/GA9rnd_npt_relax_strong_w_0.1.edr\n",
      "16 ./lseq_test_70_70_70_dens12_sample_3/ss_0.33/npt_relax_water_NPT/npt_relax_w_0.0/GA9rnd_gromos_ss_em_w.edr\n",
      "17 ./lseq_test_70_70_70_dens12_sample_3/ss_0.33/npt_relax_water_NPT/npt_relax_w_0.0/GA9rnd_npt_relax_strong_w_0.0.edr\n",
      "25 ./lseq_test_70_70_70_dens12_sample_3/ss_0.33/npt_relax_water_NPT/stressstrain_0.0/strain_simulation_0/run_strain_0.edr\n",
      "25 ./lseq_test_70_70_70_dens12_sample_3/ss_0.33/npt_relax_water_NPT/stressstrain_0.0/strain_simulation_2/run_strain_2.edr\n",
      "26 ./lseq_test_70_70_70_dens12_sample_3/ss_0.33/npt_relax_water_NPT/stressstrain_0.0/strain_simulation_2/run_strain.edr\n",
      "25 ./lseq_test_70_70_70_dens12_sample_3/ss_0.33/npt_relax_water_NPT/stressstrain_0.0/strain_simulation_1/run_strain_1.edr\n",
      "26 ./lseq_test_70_70_70_dens12_sample_3/ss_0.33/npt_relax_water_NPT/stressstrain_0.0/strain_simulation_1/run_strain.edr\n",
      "24 ./lseq_test_70_70_70_dens12_sample_3/nvt_hot/GA9rnd_gromos_hot.edr\n",
      "19 ./lseq_test_70_70_70_dens12_sample_3/relax_angles_NPT/GA9rnd_gromos_relaxangles_2_NPT.edr\n",
      "20 ./lseq_test_70_70_70_dens12_sample_4/GA9rnd_gromos_em_first.edr\n",
      "22 ./lseq_test_70_70_70_dens12_sample_4/GA9rnd_gromos_em.edr\n",
      "19 ./lseq_test_70_70_70_dens12_sample_4/ss_0.33/GA9rnd_gromos_relaxangles_2_NPT.edr\n",
      "17 ./lseq_test_70_70_70_dens12_sample_4/ss_0.33/npt_relax_NPT/GA9rnd_gromos_ss_em_first.edr\n",
      "19 ./lseq_test_70_70_70_dens12_sample_4/ss_0.33/npt_relax_NPT/GA9rnd_npt_relax.edr\n",
      "18 ./lseq_test_70_70_70_dens12_sample_4/ss_0.33/npt_relax_NPT/GA9rnd_gromos_ss_em.edr\n",
      "25 ./lseq_test_70_70_70_dens12_sample_4/ss_0.33/npt_relax_water_NPT/stressstrain_0.1/strain_simulation_0/run_strain_0.edr\n",
      "26 ./lseq_test_70_70_70_dens12_sample_4/ss_0.33/npt_relax_water_NPT/stressstrain_0.1/strain_simulation_2/run_strain.edr\n",
      "25 ./lseq_test_70_70_70_dens12_sample_4/ss_0.33/npt_relax_water_NPT/stressstrain_0.1/strain_simulation_2/run_strain_2.edr\n",
      "25 ./lseq_test_70_70_70_dens12_sample_4/ss_0.33/npt_relax_water_NPT/stressstrain_0.1/strain_simulation_1/run_strain_1.edr\n",
      "26 ./lseq_test_70_70_70_dens12_sample_4/ss_0.33/npt_relax_water_NPT/stressstrain_0.1/strain_simulation_1/run_strain.edr\n",
      "17 ./lseq_test_70_70_70_dens12_sample_4/ss_0.33/npt_relax_water_NPT/npt_relax_w_0.1/GA9rnd_npt_relax_strong_w_0.1.edr\n",
      "16 ./lseq_test_70_70_70_dens12_sample_4/ss_0.33/npt_relax_water_NPT/npt_relax_w_0.1/GA9rnd_gromos_ss_em_w.edr\n",
      "16 ./lseq_test_70_70_70_dens12_sample_4/ss_0.33/npt_relax_water_NPT/npt_relax_w_0.0/GA9rnd_gromos_ss_em_w.edr\n",
      "17 ./lseq_test_70_70_70_dens12_sample_4/ss_0.33/npt_relax_water_NPT/npt_relax_w_0.0/GA9rnd_npt_relax_strong_w_0.0.edr\n",
      "25 ./lseq_test_70_70_70_dens12_sample_4/ss_0.33/npt_relax_water_NPT/stressstrain_0.0/strain_simulation_0/run_strain_0.edr\n",
      "26 ./lseq_test_70_70_70_dens12_sample_4/ss_0.33/npt_relax_water_NPT/stressstrain_0.0/strain_simulation_1/run_strain.edr\n",
      "25 ./lseq_test_70_70_70_dens12_sample_4/ss_0.33/npt_relax_water_NPT/stressstrain_0.0/strain_simulation_1/run_strain_1.edr\n",
      "25 ./lseq_test_70_70_70_dens12_sample_4/ss_0.33/npt_relax_water_NPT/stressstrain_0.0/strain_simulation_2/run_strain_2.edr\n",
      "26 ./lseq_test_70_70_70_dens12_sample_4/ss_0.33/npt_relax_water_NPT/stressstrain_0.0/strain_simulation_2/run_strain.edr\n",
      "17 ./lseq_test_70_70_70_dens12_sample_4/nvt_cooldown_NPT/nvt_cooldown_1150/run_nvt_cooldown_1150_NPT.edr\n",
      "17 ./lseq_test_70_70_70_dens12_sample_4/nvt_cooldown_NPT/nvt_cooldown_600/run_nvt_cooldown_600_NPT.edr\n",
      "17 ./lseq_test_70_70_70_dens12_sample_4/nvt_cooldown_NPT/nvt_cooldown_700/run_nvt_cooldown_700_NPT.edr\n",
      "17 ./lseq_test_70_70_70_dens12_sample_4/nvt_cooldown_NPT/nvt_cooldown_1050/run_nvt_cooldown_1050_NPT.edr\n",
      "17 ./lseq_test_70_70_70_dens12_sample_4/nvt_cooldown_NPT/nvt_cooldown_350/run_nvt_cooldown_350_NPT.edr\n",
      "17 ./lseq_test_70_70_70_dens12_sample_4/nvt_cooldown_NPT/nvt_cooldown_1250/run_nvt_cooldown_1250_NPT.edr\n",
      "17 ./lseq_test_70_70_70_dens12_sample_4/nvt_cooldown_NPT/nvt_cooldown_500/run_nvt_cooldown_500_NPT.edr\n",
      "17 ./lseq_test_70_70_70_dens12_sample_4/nvt_cooldown_NPT/nvt_cooldown_950/run_nvt_cooldown_950_NPT.edr\n",
      "17 ./lseq_test_70_70_70_dens12_sample_4/nvt_cooldown_NPT/nvt_cooldown_850/run_nvt_cooldown_850_NPT.edr\n",
      "17 ./lseq_test_70_70_70_dens12_sample_4/nvt_cooldown_NPT/nvt_cooldown_400/run_nvt_cooldown_400_NPT.edr\n",
      "17 ./lseq_test_70_70_70_dens12_sample_4/nvt_cooldown_NPT/nvt_cooldown_650/run_nvt_cooldown_650_NPT.edr\n",
      "17 ./lseq_test_70_70_70_dens12_sample_4/nvt_cooldown_NPT/nvt_cooldown_1100/run_nvt_cooldown_1100_NPT.edr\n",
      "17 ./lseq_test_70_70_70_dens12_sample_4/nvt_cooldown_NPT/nvt_cooldown_1000/run_nvt_cooldown_1000_NPT.edr\n",
      "17 ./lseq_test_70_70_70_dens12_sample_4/nvt_cooldown_NPT/nvt_cooldown_750/run_nvt_cooldown_750_NPT.edr\n",
      "17 ./lseq_test_70_70_70_dens12_sample_4/nvt_cooldown_NPT/nvt_cooldown_550/run_nvt_cooldown_550_NPT.edr\n",
      "17 ./lseq_test_70_70_70_dens12_sample_4/nvt_cooldown_NPT/nvt_cooldown_900/run_nvt_cooldown_900_NPT.edr\n",
      "17 ./lseq_test_70_70_70_dens12_sample_4/nvt_cooldown_NPT/nvt_cooldown_1200/run_nvt_cooldown_1200_NPT.edr\n",
      "17 ./lseq_test_70_70_70_dens12_sample_4/nvt_cooldown_NPT/nvt_cooldown_300/run_nvt_cooldown_300_NPT.edr\n",
      "17 ./lseq_test_70_70_70_dens12_sample_4/nvt_cooldown_NPT/nvt_cooldown_1300/run_nvt_cooldown_1300_NPT.edr\n",
      "17 ./lseq_test_70_70_70_dens12_sample_4/nvt_cooldown_NPT/nvt_cooldown_800/run_nvt_cooldown_800_NPT.edr\n",
      "17 ./lseq_test_70_70_70_dens12_sample_4/nvt_cooldown_NPT/nvt_cooldown_450/run_nvt_cooldown_450_NPT.edr\n",
      "24 ./lseq_test_70_70_70_dens12_sample_4/nvt_hot/GA9rnd_gromos_hot.edr\n",
      "19 ./lseq_test_70_70_70_dens12_sample_4/relax_angles_NPT/GA9rnd_gromos_relaxangles_2_NPT.edr\n",
      "23 ./lseq_0_sample_3/GA9rnd_gromos_em_first.edr\n",
      "22 ./lseq_0_sample_3/GA9rnd_gromos_em.edr\n",
      "21 ./lseq_0_sample_3/relax_angles_NPT/GA9rnd_gromos_relaxangles_2_NPT.edr\n",
      "21 ./lseq_0_sample_3/ss_0.33/GA9rnd_gromos_relaxangles_2_NPT.edr\n",
      "20 ./lseq_0_sample_3/ss_0.33/npt_relax_NPT/GA9rnd_gromos_ss_em.edr\n",
      "21 ./lseq_0_sample_3/ss_0.33/npt_relax_NPT/GA9rnd_npt_relax.edr\n",
      "21 ./lseq_0_sample_3/ss_0.33/npt_relax_NPT/GA9rnd_gromos_ss_em_first.edr\n",
      "20 ./lseq_0_sample_3/ss_0.33/npt_relax_water_NPT/npt_relax_w_0.1/GA9rnd_npt_relax_strong_w_0.1.edr\n",
      "17 ./lseq_0_sample_3/ss_0.33/npt_relax_water_NPT/npt_relax_w_0.1/GA9rnd_gromos_ss_em_w.edr\n",
      "25 ./lseq_0_sample_3/ss_0.33/npt_relax_water_NPT/stressstrain_0.1/nemd_strain/run_strain.edr\n",
      "24 ./lseq_0_sample_3/ss_0.33/npt_relax_water_NPT/stressstrain_0.1/eqmd_strain_0/run_strain_0.edr\n",
      "24 ./lseq_0_sample_3/ss_0.33/npt_relax_water_NPT/stressstrain_0.1/eqmd_strain_1/run_strain_1.edr\n",
      "20 ./lseq_0_sample_3/ss_0.33/npt_relax_water_NPT/npt_relax_w_0.0/GA9rnd_npt_relax_strong_w_0.0.edr\n",
      "17 ./lseq_0_sample_3/ss_0.33/npt_relax_water_NPT/npt_relax_w_0.0/GA9rnd_gromos_ss_em_w.edr\n",
      "24 ./lseq_0_sample_3/ss_0.33/npt_relax_water_NPT/stressstrain_0.0/eqmd_strain_1/run_strain_1.edr\n",
      "25 ./lseq_0_sample_3/ss_0.33/npt_relax_water_NPT/stressstrain_0.0/nemd_strain/run_strain.edr\n",
      "24 ./lseq_0_sample_3/ss_0.33/npt_relax_water_NPT/stressstrain_0.0/eqmd_strain_0/run_strain_0.edr\n",
      "25 ./lseq_0_sample_3/nvt_hot/GA9rnd_gromos_hot.edr\n",
      "16 ./lseq_0_sample_3/nvt_cooldown_NPT/nvt_cooldown_550/run_nvt_cooldown_550_NPT.edr\n",
      "16 ./lseq_0_sample_3/nvt_cooldown_NPT/nvt_cooldown_900/run_nvt_cooldown_900_NPT.edr\n",
      "16 ./lseq_0_sample_3/nvt_cooldown_NPT/nvt_cooldown_300/run_nvt_cooldown_300_NPT.edr\n",
      "16 ./lseq_0_sample_3/nvt_cooldown_NPT/nvt_cooldown_800/run_nvt_cooldown_800_NPT.edr\n",
      "16 ./lseq_0_sample_3/nvt_cooldown_NPT/nvt_cooldown_1250/run_nvt_cooldown_1250_NPT.edr\n",
      "16 ./lseq_0_sample_3/nvt_cooldown_NPT/nvt_cooldown_450/run_nvt_cooldown_450_NPT.edr\n",
      "16 ./lseq_0_sample_3/nvt_cooldown_NPT/nvt_cooldown_650/run_nvt_cooldown_650_NPT.edr\n",
      "16 ./lseq_0_sample_3/nvt_cooldown_NPT/nvt_cooldown_1050/run_nvt_cooldown_1050_NPT.edr\n",
      "16 ./lseq_0_sample_3/nvt_cooldown_NPT/nvt_cooldown_1150/run_nvt_cooldown_1150_NPT.edr\n",
      "16 ./lseq_0_sample_3/nvt_cooldown_NPT/nvt_cooldown_750/run_nvt_cooldown_750_NPT.edr\n",
      "16 ./lseq_0_sample_3/nvt_cooldown_NPT/nvt_cooldown_350/run_nvt_cooldown_350_NPT.edr\n",
      "16 ./lseq_0_sample_3/nvt_cooldown_NPT/nvt_cooldown_500/run_nvt_cooldown_500_NPT.edr\n",
      "16 ./lseq_0_sample_3/nvt_cooldown_NPT/nvt_cooldown_1300/run_nvt_cooldown_1300_NPT.edr\n",
      "16 ./lseq_0_sample_3/nvt_cooldown_NPT/nvt_cooldown_950/run_nvt_cooldown_950_NPT.edr\n",
      "16 ./lseq_0_sample_3/nvt_cooldown_NPT/nvt_cooldown_1200/run_nvt_cooldown_1200_NPT.edr\n",
      "16 ./lseq_0_sample_3/nvt_cooldown_NPT/nvt_cooldown_850/run_nvt_cooldown_850_NPT.edr\n",
      "16 ./lseq_0_sample_3/nvt_cooldown_NPT/nvt_cooldown_400/run_nvt_cooldown_400_NPT.edr\n",
      "16 ./lseq_0_sample_3/nvt_cooldown_NPT/nvt_cooldown_600/run_nvt_cooldown_600_NPT.edr\n",
      "16 ./lseq_0_sample_3/nvt_cooldown_NPT/nvt_cooldown_1000/run_nvt_cooldown_1000_NPT.edr\n",
      "16 ./lseq_0_sample_3/nvt_cooldown_NPT/nvt_cooldown_1100/run_nvt_cooldown_1100_NPT.edr\n",
      "16 ./lseq_0_sample_3/nvt_cooldown_NPT/nvt_cooldown_700/run_nvt_cooldown_700_NPT.edr\n",
      "22 ./lseq_0_sample_4/GA9rnd_gromos_em_first_5.edr\n",
      "22 ./lseq_0_sample_4/GA9rnd_gromos_em_first_12.edr\n",
      "22 ./lseq_0_sample_4/GA9rnd_gromos_em_first_15.edr\n",
      "22 ./lseq_0_sample_4/GA9rnd_gromos_em_first_20.edr\n",
      "22 ./lseq_0_sample_4/GA9rnd_gromos_em_first_14.edr\n",
      "22 ./lseq_0_sample_4/GA9rnd_gromos_em_first_13.edr\n",
      "22 ./lseq_0_sample_4/GA9rnd_gromos_em_first_10.edr\n",
      "22 ./lseq_0_sample_4/GA9rnd_gromos_em_first_17.edr\n",
      "22 ./lseq_0_sample_4/GA9rnd_gromos_em_first_19.edr\n",
      "22 ./lseq_0_sample_4/GA9rnd_gromos_em_first_9.edr\n",
      "22 ./lseq_0_sample_4/GA9rnd_gromos_em_first_7.edr\n",
      "22 ./lseq_0_sample_4/GA9rnd_gromos_em_first_18.edr\n",
      "22 ./lseq_0_sample_4/GA9rnd_gromos_em_first_16.edr\n",
      "22 ./lseq_0_sample_4/GA9rnd_gromos_em.edr\n",
      "22 ./lseq_0_sample_4/GA9rnd_gromos_em_first_11.edr\n",
      "22 ./lseq_0_sample_4/GA9rnd_gromos_em_first_6.edr\n",
      "22 ./lseq_0_sample_4/GA9rnd_gromos_em_first_8.edr\n",
      "24 ./lseq_0_sample_4/nvt_hot/GA9rnd_gromos_hot_l16.edr\n",
      "24 ./lseq_0_sample_4/nvt_hot/GA9rnd_gromos_hot_l18.edr\n",
      "24 ./lseq_0_sample_4/nvt_hot/GA9rnd_gromos_hot_l20.edr\n",
      "24 ./lseq_0_sample_4/nvt_hot/GA9rnd_gromos_hot_l14.edr\n",
      "21 ./lseq_0_sample_4/relax_angles_NPT/GA9rnd_gromos_relaxangles_2_NPT.edr\n",
      "16 ./lseq_0_sample_4/nvt_cooldown_NPT/nvt_cooldown_1150/run_nvt_cooldown_1150_NPT.edr\n",
      "16 ./lseq_0_sample_4/nvt_cooldown_NPT/nvt_cooldown_700/run_nvt_cooldown_700_NPT.edr\n",
      "16 ./lseq_0_sample_4/nvt_cooldown_NPT/nvt_cooldown_600/run_nvt_cooldown_600_NPT.edr\n",
      "16 ./lseq_0_sample_4/nvt_cooldown_NPT/nvt_cooldown_1050/run_nvt_cooldown_1050_NPT.edr\n",
      "16 ./lseq_0_sample_4/nvt_cooldown_NPT/nvt_cooldown_1250/run_nvt_cooldown_1250_NPT.edr\n",
      "16 ./lseq_0_sample_4/nvt_cooldown_NPT/nvt_cooldown_850/run_nvt_cooldown_850_NPT.edr\n",
      "16 ./lseq_0_sample_4/nvt_cooldown_NPT/nvt_cooldown_400/run_nvt_cooldown_400_NPT.edr\n",
      "16 ./lseq_0_sample_4/nvt_cooldown_NPT/nvt_cooldown_500/run_nvt_cooldown_500_NPT.edr\n",
      "16 ./lseq_0_sample_4/nvt_cooldown_NPT/nvt_cooldown_950/run_nvt_cooldown_950_NPT.edr\n",
      "16 ./lseq_0_sample_4/nvt_cooldown_NPT/nvt_cooldown_350/run_nvt_cooldown_350_NPT.edr\n",
      "16 ./lseq_0_sample_4/nvt_cooldown_NPT/nvt_cooldown_750/run_nvt_cooldown_750_NPT.edr\n",
      "16 ./lseq_0_sample_4/nvt_cooldown_NPT/nvt_cooldown_1100/run_nvt_cooldown_1100_NPT.edr\n",
      "16 ./lseq_0_sample_4/nvt_cooldown_NPT/nvt_cooldown_1000/run_nvt_cooldown_1000_NPT.edr\n",
      "16 ./lseq_0_sample_4/nvt_cooldown_NPT/nvt_cooldown_650/run_nvt_cooldown_650_NPT.edr\n",
      "16 ./lseq_0_sample_4/nvt_cooldown_NPT/nvt_cooldown_800/run_nvt_cooldown_800_NPT.edr\n",
      "16 ./lseq_0_sample_4/nvt_cooldown_NPT/nvt_cooldown_450/run_nvt_cooldown_450_NPT.edr\n",
      "16 ./lseq_0_sample_4/nvt_cooldown_NPT/nvt_cooldown_1200/run_nvt_cooldown_1200_NPT.edr\n",
      "16 ./lseq_0_sample_4/nvt_cooldown_NPT/nvt_cooldown_300/run_nvt_cooldown_300_NPT.edr\n",
      "16 ./lseq_0_sample_4/nvt_cooldown_NPT/nvt_cooldown_1300/run_nvt_cooldown_1300_NPT.edr\n",
      "16 ./lseq_0_sample_4/nvt_cooldown_NPT/nvt_cooldown_550/run_nvt_cooldown_550_NPT.edr\n",
      "16 ./lseq_0_sample_4/nvt_cooldown_NPT/nvt_cooldown_900/run_nvt_cooldown_900_NPT.edr\n"
     ]
    },
    {
     "data": {
      "text/plain": [
       "['./lseq_0_sample_1/nvt_hot/GA9rnd_gromos_hot.edr',\n",
       " './lseq_0_sample_1/ss_0.33/npt_relax_water_NPT/stressstrain_0.0/nemd_strain/run_strain.edr',\n",
       " './lseq_0_sample_1/ss_0.33/npt_relax_water_NPT/stressstrain_0.1/nemd_strain/run_strain.edr',\n",
       " './lseq_test_70_70_70_dens12_sample_2/ss_0.33/npt_relax_water_NPT/stressstrain_0.1/strain_simulation_0/run_strain_0.edr',\n",
       " './lseq_test_70_70_70_dens12_sample_2/ss_0.33/npt_relax_water_NPT/stressstrain_0.1/strain_simulation_1/run_strain.edr',\n",
       " './lseq_test_70_70_70_dens12_sample_2/ss_0.33/npt_relax_water_NPT/stressstrain_0.1/strain_simulation_1/run_strain_1.edr',\n",
       " './lseq_test_70_70_70_dens12_sample_2/ss_0.33/npt_relax_water_NPT/stressstrain_0.1/strain_simulation_2/run_strain.edr',\n",
       " './lseq_test_70_70_70_dens12_sample_2/ss_0.33/npt_relax_water_NPT/stressstrain_0.1/strain_simulation_2/run_strain_2.edr',\n",
       " './lseq_test_70_70_70_dens12_sample_2/ss_0.33/npt_relax_water_NPT/stressstrain_0.0/strain_simulation_0/run_strain_0.edr',\n",
       " './lseq_test_70_70_70_dens12_sample_2/ss_0.33/npt_relax_water_NPT/stressstrain_0.0/strain_simulation_2/run_strain_2.edr',\n",
       " './lseq_test_70_70_70_dens12_sample_2/ss_0.33/npt_relax_water_NPT/stressstrain_0.0/strain_simulation_2/run_strain.edr',\n",
       " './lseq_test_70_70_70_dens12_sample_2/ss_0.33/npt_relax_water_NPT/stressstrain_0.0/strain_simulation_1/run_strain_1.edr',\n",
       " './lseq_test_70_70_70_dens12_sample_2/ss_0.33/npt_relax_water_NPT/stressstrain_0.0/strain_simulation_1/run_strain.edr',\n",
       " './lseq_0_sample_2/ss_0.33/npt_relax_water_NPT/stressstrain_0.0/nemd_strain/run_strain.edr',\n",
       " './lseq_0_sample_2/ss_0.33/npt_relax_water_NPT/stressstrain_0.1/nemd_strain/run_strain.edr',\n",
       " './lseq_0_sample_2/nvt_hot/GA9rnd_gromos_hot.edr',\n",
       " './lseq_test_70_70_70_dens12_sample_1/ss_0.33/npt_relax_water_NPT/stressstrain_0.1/strain_simulation_2/run_strain.edr',\n",
       " './lseq_test_70_70_70_dens12_sample_1/ss_0.33/npt_relax_water_NPT/stressstrain_0.1/strain_simulation_2/run_strain_2.edr',\n",
       " './lseq_test_70_70_70_dens12_sample_1/ss_0.33/npt_relax_water_NPT/stressstrain_0.1/strain_simulation_1/run_strain.edr',\n",
       " './lseq_test_70_70_70_dens12_sample_1/ss_0.33/npt_relax_water_NPT/stressstrain_0.1/strain_simulation_1/run_strain_1.edr',\n",
       " './lseq_test_70_70_70_dens12_sample_1/ss_0.33/npt_relax_water_NPT/stressstrain_0.1/strain_simulation_0/run_strain_0.edr',\n",
       " './lseq_test_70_70_70_dens12_sample_1/ss_0.33/npt_relax_water_NPT/stressstrain_0.0/strain_simulation_2/run_strain_2.edr',\n",
       " './lseq_test_70_70_70_dens12_sample_1/ss_0.33/npt_relax_water_NPT/stressstrain_0.0/strain_simulation_2/run_strain.edr',\n",
       " './lseq_test_70_70_70_dens12_sample_1/ss_0.33/npt_relax_water_NPT/stressstrain_0.0/strain_simulation_1/run_strain_1.edr',\n",
       " './lseq_test_70_70_70_dens12_sample_1/ss_0.33/npt_relax_water_NPT/stressstrain_0.0/strain_simulation_1/run_strain.edr',\n",
       " './lseq_test_70_70_70_dens12_sample_1/ss_0.33/npt_relax_water_NPT/stressstrain_0.0/strain_simulation_0/run_strain_0.edr',\n",
       " './lseq_test_70_70_70_dens12_sample_3/ss_0.33/npt_relax_water_NPT/stressstrain_0.1/strain_simulation_0/run_strain_0.edr',\n",
       " './lseq_test_70_70_70_dens12_sample_3/ss_0.33/npt_relax_water_NPT/stressstrain_0.1/strain_simulation_1/run_strain_1.edr',\n",
       " './lseq_test_70_70_70_dens12_sample_3/ss_0.33/npt_relax_water_NPT/stressstrain_0.1/strain_simulation_1/run_strain.edr',\n",
       " './lseq_test_70_70_70_dens12_sample_3/ss_0.33/npt_relax_water_NPT/stressstrain_0.1/strain_simulation_2/run_strain.edr',\n",
       " './lseq_test_70_70_70_dens12_sample_3/ss_0.33/npt_relax_water_NPT/stressstrain_0.1/strain_simulation_2/run_strain_2.edr',\n",
       " './lseq_test_70_70_70_dens12_sample_3/ss_0.33/npt_relax_water_NPT/stressstrain_0.0/strain_simulation_0/run_strain_0.edr',\n",
       " './lseq_test_70_70_70_dens12_sample_3/ss_0.33/npt_relax_water_NPT/stressstrain_0.0/strain_simulation_2/run_strain_2.edr',\n",
       " './lseq_test_70_70_70_dens12_sample_3/ss_0.33/npt_relax_water_NPT/stressstrain_0.0/strain_simulation_2/run_strain.edr',\n",
       " './lseq_test_70_70_70_dens12_sample_3/ss_0.33/npt_relax_water_NPT/stressstrain_0.0/strain_simulation_1/run_strain_1.edr',\n",
       " './lseq_test_70_70_70_dens12_sample_3/ss_0.33/npt_relax_water_NPT/stressstrain_0.0/strain_simulation_1/run_strain.edr',\n",
       " './lseq_test_70_70_70_dens12_sample_4/ss_0.33/npt_relax_water_NPT/stressstrain_0.1/strain_simulation_0/run_strain_0.edr',\n",
       " './lseq_test_70_70_70_dens12_sample_4/ss_0.33/npt_relax_water_NPT/stressstrain_0.1/strain_simulation_2/run_strain.edr',\n",
       " './lseq_test_70_70_70_dens12_sample_4/ss_0.33/npt_relax_water_NPT/stressstrain_0.1/strain_simulation_2/run_strain_2.edr',\n",
       " './lseq_test_70_70_70_dens12_sample_4/ss_0.33/npt_relax_water_NPT/stressstrain_0.1/strain_simulation_1/run_strain_1.edr',\n",
       " './lseq_test_70_70_70_dens12_sample_4/ss_0.33/npt_relax_water_NPT/stressstrain_0.1/strain_simulation_1/run_strain.edr',\n",
       " './lseq_test_70_70_70_dens12_sample_4/ss_0.33/npt_relax_water_NPT/stressstrain_0.0/strain_simulation_0/run_strain_0.edr',\n",
       " './lseq_test_70_70_70_dens12_sample_4/ss_0.33/npt_relax_water_NPT/stressstrain_0.0/strain_simulation_1/run_strain.edr',\n",
       " './lseq_test_70_70_70_dens12_sample_4/ss_0.33/npt_relax_water_NPT/stressstrain_0.0/strain_simulation_1/run_strain_1.edr',\n",
       " './lseq_test_70_70_70_dens12_sample_4/ss_0.33/npt_relax_water_NPT/stressstrain_0.0/strain_simulation_2/run_strain_2.edr',\n",
       " './lseq_test_70_70_70_dens12_sample_4/ss_0.33/npt_relax_water_NPT/stressstrain_0.0/strain_simulation_2/run_strain.edr',\n",
       " './lseq_0_sample_3/ss_0.33/npt_relax_water_NPT/stressstrain_0.1/nemd_strain/run_strain.edr',\n",
       " './lseq_0_sample_3/ss_0.33/npt_relax_water_NPT/stressstrain_0.0/nemd_strain/run_strain.edr',\n",
       " './lseq_0_sample_3/nvt_hot/GA9rnd_gromos_hot.edr']"
      ]
     },
     "execution_count": 4,
     "metadata": {},
     "output_type": "execute_result"
    }
   ],
   "source": [
    "matches = gmx.search_files_fuzzy('strain_simulation', show_scores=True, fuzzy_threshold=25)\n",
    "matches"
   ]
  },
  {
   "attachments": {},
   "cell_type": "markdown",
   "metadata": {},
   "source": [
    "# We can combine strings for the fuzzy search to more strongly separate the scores:"
   ]
  },
  {
   "cell_type": "code",
   "execution_count": 5,
   "metadata": {},
   "outputs": [
    {
     "name": "stdout",
     "output_type": "stream",
     "text": [
      "39 ./lseq_0_sample_1/nvt_hot/GA9rnd_gromos_hot.edr\n",
      "44 ./lseq_0_sample_1/ss_0.33/npt_relax_water_NPT/stressstrain_0.0/nemd_strain/run_strain.edr\n",
      "44 ./lseq_0_sample_1/ss_0.33/npt_relax_water_NPT/stressstrain_0.1/nemd_strain/run_strain.edr\n",
      "32 ./lseq_test_70_70_70_dens12_sample_2/ss_0.33/npt_relax_water_NPT/stressstrain_0.1/strain_simulation_0/run_strain_0.edr\n",
      "33 ./lseq_test_70_70_70_dens12_sample_2/ss_0.33/npt_relax_water_NPT/stressstrain_0.1/strain_simulation_1/run_strain.edr\n",
      "32 ./lseq_test_70_70_70_dens12_sample_2/ss_0.33/npt_relax_water_NPT/stressstrain_0.1/strain_simulation_1/run_strain_1.edr\n",
      "33 ./lseq_test_70_70_70_dens12_sample_2/ss_0.33/npt_relax_water_NPT/stressstrain_0.1/strain_simulation_2/run_strain.edr\n",
      "32 ./lseq_test_70_70_70_dens12_sample_2/ss_0.33/npt_relax_water_NPT/stressstrain_0.1/strain_simulation_2/run_strain_2.edr\n",
      "32 ./lseq_test_70_70_70_dens12_sample_2/ss_0.33/npt_relax_water_NPT/stressstrain_0.0/strain_simulation_0/run_strain_0.edr\n",
      "32 ./lseq_test_70_70_70_dens12_sample_2/ss_0.33/npt_relax_water_NPT/stressstrain_0.0/strain_simulation_2/run_strain_2.edr\n",
      "33 ./lseq_test_70_70_70_dens12_sample_2/ss_0.33/npt_relax_water_NPT/stressstrain_0.0/strain_simulation_2/run_strain.edr\n",
      "32 ./lseq_test_70_70_70_dens12_sample_2/ss_0.33/npt_relax_water_NPT/stressstrain_0.0/strain_simulation_1/run_strain_1.edr\n",
      "33 ./lseq_test_70_70_70_dens12_sample_2/ss_0.33/npt_relax_water_NPT/stressstrain_0.0/strain_simulation_1/run_strain.edr\n",
      "44 ./lseq_0_sample_2/ss_0.33/npt_relax_water_NPT/stressstrain_0.0/nemd_strain/run_strain.edr\n",
      "44 ./lseq_0_sample_2/ss_0.33/npt_relax_water_NPT/stressstrain_0.1/nemd_strain/run_strain.edr\n",
      "39 ./lseq_0_sample_2/nvt_hot/GA9rnd_gromos_hot.edr\n",
      "33 ./lseq_test_70_70_70_dens12_sample_1/ss_0.33/npt_relax_water_NPT/stressstrain_0.1/strain_simulation_2/run_strain.edr\n",
      "32 ./lseq_test_70_70_70_dens12_sample_1/ss_0.33/npt_relax_water_NPT/stressstrain_0.1/strain_simulation_2/run_strain_2.edr\n",
      "33 ./lseq_test_70_70_70_dens12_sample_1/ss_0.33/npt_relax_water_NPT/stressstrain_0.1/strain_simulation_1/run_strain.edr\n",
      "32 ./lseq_test_70_70_70_dens12_sample_1/ss_0.33/npt_relax_water_NPT/stressstrain_0.1/strain_simulation_1/run_strain_1.edr\n",
      "32 ./lseq_test_70_70_70_dens12_sample_1/ss_0.33/npt_relax_water_NPT/stressstrain_0.1/strain_simulation_0/run_strain_0.edr\n",
      "32 ./lseq_test_70_70_70_dens12_sample_1/ss_0.33/npt_relax_water_NPT/stressstrain_0.0/strain_simulation_2/run_strain_2.edr\n",
      "33 ./lseq_test_70_70_70_dens12_sample_1/ss_0.33/npt_relax_water_NPT/stressstrain_0.0/strain_simulation_2/run_strain.edr\n",
      "32 ./lseq_test_70_70_70_dens12_sample_1/ss_0.33/npt_relax_water_NPT/stressstrain_0.0/strain_simulation_1/run_strain_1.edr\n",
      "33 ./lseq_test_70_70_70_dens12_sample_1/ss_0.33/npt_relax_water_NPT/stressstrain_0.0/strain_simulation_1/run_strain.edr\n",
      "32 ./lseq_test_70_70_70_dens12_sample_1/ss_0.33/npt_relax_water_NPT/stressstrain_0.0/strain_simulation_0/run_strain_0.edr\n",
      "32 ./lseq_test_70_70_70_dens12_sample_3/ss_0.33/npt_relax_water_NPT/stressstrain_0.1/strain_simulation_0/run_strain_0.edr\n",
      "32 ./lseq_test_70_70_70_dens12_sample_3/ss_0.33/npt_relax_water_NPT/stressstrain_0.1/strain_simulation_1/run_strain_1.edr\n",
      "33 ./lseq_test_70_70_70_dens12_sample_3/ss_0.33/npt_relax_water_NPT/stressstrain_0.1/strain_simulation_1/run_strain.edr\n",
      "33 ./lseq_test_70_70_70_dens12_sample_3/ss_0.33/npt_relax_water_NPT/stressstrain_0.1/strain_simulation_2/run_strain.edr\n",
      "32 ./lseq_test_70_70_70_dens12_sample_3/ss_0.33/npt_relax_water_NPT/stressstrain_0.1/strain_simulation_2/run_strain_2.edr\n",
      "32 ./lseq_test_70_70_70_dens12_sample_3/ss_0.33/npt_relax_water_NPT/stressstrain_0.0/strain_simulation_0/run_strain_0.edr\n",
      "32 ./lseq_test_70_70_70_dens12_sample_3/ss_0.33/npt_relax_water_NPT/stressstrain_0.0/strain_simulation_2/run_strain_2.edr\n",
      "33 ./lseq_test_70_70_70_dens12_sample_3/ss_0.33/npt_relax_water_NPT/stressstrain_0.0/strain_simulation_2/run_strain.edr\n",
      "32 ./lseq_test_70_70_70_dens12_sample_3/ss_0.33/npt_relax_water_NPT/stressstrain_0.0/strain_simulation_1/run_strain_1.edr\n",
      "33 ./lseq_test_70_70_70_dens12_sample_3/ss_0.33/npt_relax_water_NPT/stressstrain_0.0/strain_simulation_1/run_strain.edr\n",
      "32 ./lseq_test_70_70_70_dens12_sample_4/ss_0.33/npt_relax_water_NPT/stressstrain_0.1/strain_simulation_0/run_strain_0.edr\n",
      "33 ./lseq_test_70_70_70_dens12_sample_4/ss_0.33/npt_relax_water_NPT/stressstrain_0.1/strain_simulation_2/run_strain.edr\n",
      "32 ./lseq_test_70_70_70_dens12_sample_4/ss_0.33/npt_relax_water_NPT/stressstrain_0.1/strain_simulation_2/run_strain_2.edr\n",
      "32 ./lseq_test_70_70_70_dens12_sample_4/ss_0.33/npt_relax_water_NPT/stressstrain_0.1/strain_simulation_1/run_strain_1.edr\n",
      "33 ./lseq_test_70_70_70_dens12_sample_4/ss_0.33/npt_relax_water_NPT/stressstrain_0.1/strain_simulation_1/run_strain.edr\n",
      "32 ./lseq_test_70_70_70_dens12_sample_4/ss_0.33/npt_relax_water_NPT/stressstrain_0.0/strain_simulation_0/run_strain_0.edr\n",
      "33 ./lseq_test_70_70_70_dens12_sample_4/ss_0.33/npt_relax_water_NPT/stressstrain_0.0/strain_simulation_1/run_strain.edr\n",
      "32 ./lseq_test_70_70_70_dens12_sample_4/ss_0.33/npt_relax_water_NPT/stressstrain_0.0/strain_simulation_1/run_strain_1.edr\n",
      "32 ./lseq_test_70_70_70_dens12_sample_4/ss_0.33/npt_relax_water_NPT/stressstrain_0.0/strain_simulation_2/run_strain_2.edr\n",
      "33 ./lseq_test_70_70_70_dens12_sample_4/ss_0.33/npt_relax_water_NPT/stressstrain_0.0/strain_simulation_2/run_strain.edr\n",
      "44 ./lseq_0_sample_3/ss_0.33/npt_relax_water_NPT/stressstrain_0.1/nemd_strain/run_strain.edr\n",
      "44 ./lseq_0_sample_3/ss_0.33/npt_relax_water_NPT/stressstrain_0.0/nemd_strain/run_strain.edr\n",
      "39 ./lseq_0_sample_3/nvt_hot/GA9rnd_gromos_hot.edr\n"
     ]
    },
    {
     "data": {
      "text/plain": [
       "['./lseq_0_sample_1/ss_0.33/npt_relax_water_NPT/stressstrain_0.0/nemd_strain/run_strain.edr',\n",
       " './lseq_0_sample_1/ss_0.33/npt_relax_water_NPT/stressstrain_0.1/nemd_strain/run_strain.edr',\n",
       " './lseq_0_sample_2/ss_0.33/npt_relax_water_NPT/stressstrain_0.0/nemd_strain/run_strain.edr',\n",
       " './lseq_0_sample_2/ss_0.33/npt_relax_water_NPT/stressstrain_0.1/nemd_strain/run_strain.edr',\n",
       " './lseq_0_sample_3/ss_0.33/npt_relax_water_NPT/stressstrain_0.1/nemd_strain/run_strain.edr',\n",
       " './lseq_0_sample_3/ss_0.33/npt_relax_water_NPT/stressstrain_0.0/nemd_strain/run_strain.edr']"
      ]
     },
     "execution_count": 5,
     "metadata": {},
     "output_type": "execute_result"
    }
   ],
   "source": [
    "matches_refined = gmx.search_files_fuzzy('nemd_strainrun_strain.edr', files=matches, show_scores=True, fuzzy_threshold=40)\n",
    "matches_refined"
   ]
  },
  {
   "attachments": {},
   "cell_type": "markdown",
   "metadata": {},
   "source": [
    "The `search_files_fuzzy` method takes a string to search for, a list of files to search within, a boolean indicating whether to show scores, and a fuzzy threshold. It returns a refined list of file matches."
   ]
  },
  {
   "cell_type": "code",
   "execution_count": 6,
   "metadata": {},
   "outputs": [
    {
     "data": {
      "text/plain": [
       "['./lseq_0_sample_1/ss_0.33/npt_relax_water_NPT/stressstrain_0.0/nemd_strain/run_strain.edr',\n",
       " './lseq_0_sample_1/ss_0.33/npt_relax_water_NPT/stressstrain_0.1/nemd_strain/run_strain.edr',\n",
       " './lseq_0_sample_2/ss_0.33/npt_relax_water_NPT/stressstrain_0.0/nemd_strain/run_strain.edr',\n",
       " './lseq_0_sample_2/ss_0.33/npt_relax_water_NPT/stressstrain_0.1/nemd_strain/run_strain.edr',\n",
       " './lseq_0_sample_3/ss_0.33/npt_relax_water_NPT/stressstrain_0.1/nemd_strain/run_strain.edr',\n",
       " './lseq_0_sample_3/ss_0.33/npt_relax_water_NPT/stressstrain_0.0/nemd_strain/run_strain.edr']"
      ]
     },
     "execution_count": 6,
     "metadata": {},
     "output_type": "execute_result"
    }
   ],
   "source": [
    "matches_refined"
   ]
  },
  {
   "attachments": {},
   "cell_type": "markdown",
   "metadata": {},
   "source": [
    "# Step 2: Extract data\n",
    "\n",
    "Next, we extract data from these files. We will also use a patterns dictionary to extract specific pieces of information from the file names.\n",
    "We will also use the gmx energy terms \"Box-Z\" and \"Press-ZZ\" to compute the elastic modulus later on."
   ]
  },
  {
   "cell_type": "code",
   "execution_count": 7,
   "metadata": {},
   "outputs": [
    {
     "name": "stdout",
     "output_type": "stream",
     "text": [
      "get_data(): Didnt find data in self.energy_data, extracting data...\n",
      "get_data(): Didnt find data in self.energy_data, extracting data...\n",
      "get_data(): Didnt find data in self.energy_data, extracting data...\n",
      "get_data(): Didnt find data in self.energy_data, extracting data...\n",
      "get_data(): Didnt find data in self.energy_data, extracting data...\n",
      "get_data(): Didnt find data in self.energy_data, extracting data...\n",
      "get_data(): Didnt find data in self.energy_data, extracting data...\n",
      "get_data(): Didnt find data in self.energy_data, extracting data...\n",
      "get_data(): Didnt find data in self.energy_data, extracting data...\n",
      "get_data(): Didnt find data in self.energy_data, extracting data...\n",
      "get_data(): Didnt find data in self.energy_data, extracting data...\n"
     ]
    },
    {
     "name": "stdout",
     "output_type": "stream",
     "text": [
      "get_data(): Didnt find data in self.energy_data, extracting data...\n"
     ]
    }
   ],
   "source": [
    "patterns = {\n",
    "    'sequence': 'lseq_{float_no_decimal}',\n",
    "    'sample': 'sample_{float_no_decimal}',\n",
    "    'water': 'w_{decimal}',\n",
    "    'water_strain': 'stressstrain_{decimal}',\n",
    "    'strain_num': 'run_strain_{float_no_decimal}',\n",
    "    'strain_nemd': 'run_strain.{string}'\n",
    "}\n",
    "data = gmx.get_data(files=matches_refined, terms=[\"Box-Z\", \"Pres-ZZ\"], patterns=patterns)\n"
   ]
  },
  {
   "attachments": {},
   "cell_type": "markdown",
   "metadata": {},
   "source": [
    "The `get_data` method directly extracts data for given terms from the `.edr` files specified. It can also decode specified patterns from the file names. The resulting data is stored in a DataFrame data."
   ]
  },
  {
   "attachments": {},
   "cell_type": "markdown",
   "metadata": {},
   "source": [
    " # Step 3: Convert pressure\n",
    "We will now convert the pressure from bar to GPa."
   ]
  },
  {
   "cell_type": "code",
   "execution_count": 8,
   "metadata": {},
   "outputs": [],
   "source": [
    "# Convert pressure from bar to GPa.\n",
    "data[\"Stress (GPa)\"] = -data[\"Pres-ZZ (bar)\"]/10000.0"
   ]
  },
  {
   "attachments": {},
   "cell_type": "markdown",
   "metadata": {},
   "source": [
    "# Step 4: Define and apply strain calculation function\n",
    "We will now define a function to calculate strain for a given DataFrame and apply it to each group of data (i.e., each file)."
   ]
  },
  {
   "cell_type": "code",
   "execution_count": 9,
   "metadata": {},
   "outputs": [],
   "source": [
    "# Define a function to calculate strain for a given DataFrame.\n",
    "def calculate_strain(df):\n",
    "    # Get the initial box size (at time = 0.0).\n",
    "    start_z = df[df[\"Time (ps)\"] == 0.0][\"Box-Z (nm)\"].iloc[0]\n",
    "    # Calculate the strain based on the current and initial box sizes.\n",
    "    df[\"Strain\"] = (df[\"Box-Z (nm)\"] - start_z) / start_z\n",
    "    return df\n",
    "\n",
    "# Apply the calculate_strain function to each group of data.\n",
    "data = data.groupby(\"file\", group_keys=False).apply(calculate_strain)"
   ]
  },
  {
   "attachments": {},
   "cell_type": "markdown",
   "metadata": {},
   "source": [
    "Finally, we apply the calculate_strain function to each group of data, grouped by the file name. This is done using the groupby method of pandas DataFrame and the apply method. The result is a new DataFrame where the calculate_strain function has been applied to each group of data."
   ]
  },
  {
   "attachments": {},
   "cell_type": "markdown",
   "metadata": {},
   "source": [
    "# Step 5: Compute Young's modulus for each data group and store the results in a DataFrame."
   ]
  },
  {
   "cell_type": "code",
   "execution_count": 10,
   "metadata": {},
   "outputs": [
    {
     "data": {
      "text/plain": [
       "{(1.0, 0.0): array([1.3988072 , 0.06143097]),\n",
       " (1.0, 0.1): array([2.03280806, 0.02005198]),\n",
       " (2.0, 0.0): array([0.81333022, 0.07597423]),\n",
       " (2.0, 0.1): array([0.89485933, 0.0335216 ]),\n",
       " (3.0, 0.0): array([0.88477426, 0.06784713]),\n",
       " (3.0, 0.1): array([1.03695156, 0.04456718])}"
      ]
     },
     "execution_count": 10,
     "metadata": {},
     "output_type": "execute_result"
    }
   ],
   "source": [
    "gmx.compute_youngs_modulus(data, processing_type=\"individual\", fitting_type=\"linear\",  x_name=\"Strain\", y_name=\"Stress (GPa)\", groupby=[\"sample\", \"water_strain\"])"
   ]
  },
  {
   "cell_type": "code",
   "execution_count": 12,
   "metadata": {},
   "outputs": [
    {
     "data": {
      "text/plain": [
       "{(0.0, 1.0, 0.0): array([1.3988072 , 0.06143097]),\n",
       " (0.0, 1.0, 0.1): array([2.03280806, 0.02005198]),\n",
       " (0.0, 2.0, 0.0): array([0.81333022, 0.07597423]),\n",
       " (0.0, 2.0, 0.1): array([0.89485933, 0.0335216 ]),\n",
       " (0.0, 3.0, 0.0): array([0.88477426, 0.06784713]),\n",
       " (0.0, 3.0, 0.1): array([1.03695156, 0.04456718])}"
      ]
     },
     "execution_count": 12,
     "metadata": {},
     "output_type": "execute_result"
    }
   ],
   "source": [
    "gmx.compute_youngs_modulus(data, processing_type=\"individual\", fitting_type=\"linear\",  x_name=\"Strain\", y_name=\"Stress (GPa)\", groupby=['sequence', 'sample', 'water_strain'])\n"
   ]
  }
 ],
 "metadata": {
  "kernelspec": {
   "display_name": "role_of_seq",
   "language": "python",
   "name": "python3"
  },
  "language_info": {
   "codemirror_mode": {
    "name": "ipython",
    "version": 3
   },
   "file_extension": ".py",
   "mimetype": "text/x-python",
   "name": "python",
   "nbconvert_exporter": "python",
   "pygments_lexer": "ipython3",
   "version": "3.10.11"
  },
  "orig_nbformat": 4
 },
 "nbformat": 4,
 "nbformat_minor": 2
}
